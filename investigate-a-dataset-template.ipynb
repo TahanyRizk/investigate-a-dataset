{
 "cells": [
  {
   "cell_type": "markdown",
   "metadata": {},
   "source": [
    "\n",
    "# Project: Investigate a Dataset of No-show appointments.\n",
    "\n",
    "## Table of Contents\n",
    "<ul>\n",
    "<li><a href=\"#intro\">Introduction</a></li>\n",
    "<li><a href=\"#wrangling\">Data Wrangling</a></li>\n",
    "<li><a href=\"#eda\">Exploratory Data Analysis</a></li>\n",
    "<li><a href=\"#conclusions\">Conclusions</a></li>\n",
    "</ul>"
   ]
  },
  {
   "cell_type": "markdown",
   "metadata": {},
   "source": [
    "<a id='intro'></a>\n",
    "## Introduction\n",
    "\n",
    "### This Report is about No-show appointments , (original source on Kaggle) .\n",
    ">This dataset collects information from 100k medical appointments in Brazil and is focused on the question of whether or not patients show up for their appointment including :\n",
    "PatientId, AppointmentID, Gender, ScheduledDay, AppointmentDay, Age, Neighbourhood,Scholarship, Hipertension, Diabetes, Alcoholism, Handcap, SMS_received, No-show\n",
    ">\n",
    "### The Suggested questions are :\n",
    "* 1- What is the effect of ( Age,Gender , SMS_received , Scholarship , Scheduled_Weekday) on  show up rate for their scheduled appointment?\n",
    "* 2- What is the  top 10 Neighbourhood in no_show rate?"
   ]
  },
  {
   "cell_type": "code",
   "execution_count": 1,
   "metadata": {},
   "outputs": [],
   "source": [
    "import pandas as pd\n",
    "import numpy as np\n",
    "import matplotlib.pyplot as plt\n",
    "import seaborn as sns\n",
    "%matplotlib inline"
   ]
  },
  {
   "cell_type": "markdown",
   "metadata": {},
   "source": [
    "<a id='wrangling'></a>\n",
    "## Data Wrangling\n",
    "\n",
    "### General Properties"
   ]
  },
  {
   "cell_type": "code",
   "execution_count": 2,
   "metadata": {},
   "outputs": [
    {
     "data": {
      "text/html": [
       "<div>\n",
       "<style scoped>\n",
       "    .dataframe tbody tr th:only-of-type {\n",
       "        vertical-align: middle;\n",
       "    }\n",
       "\n",
       "    .dataframe tbody tr th {\n",
       "        vertical-align: top;\n",
       "    }\n",
       "\n",
       "    .dataframe thead th {\n",
       "        text-align: right;\n",
       "    }\n",
       "</style>\n",
       "<table border=\"1\" class=\"dataframe\">\n",
       "  <thead>\n",
       "    <tr style=\"text-align: right;\">\n",
       "      <th></th>\n",
       "      <th>PatientId</th>\n",
       "      <th>AppointmentID</th>\n",
       "      <th>Gender</th>\n",
       "      <th>ScheduledDay</th>\n",
       "      <th>AppointmentDay</th>\n",
       "      <th>Age</th>\n",
       "      <th>Neighbourhood</th>\n",
       "      <th>Scholarship</th>\n",
       "      <th>Hipertension</th>\n",
       "      <th>Diabetes</th>\n",
       "      <th>Alcoholism</th>\n",
       "      <th>Handcap</th>\n",
       "      <th>SMS_received</th>\n",
       "      <th>No-show</th>\n",
       "    </tr>\n",
       "  </thead>\n",
       "  <tbody>\n",
       "    <tr>\n",
       "      <th>0</th>\n",
       "      <td>2.987250e+13</td>\n",
       "      <td>5642903</td>\n",
       "      <td>F</td>\n",
       "      <td>2016-04-29T18:38:08Z</td>\n",
       "      <td>2016-04-29T00:00:00Z</td>\n",
       "      <td>62</td>\n",
       "      <td>JARDIM DA PENHA</td>\n",
       "      <td>0</td>\n",
       "      <td>1</td>\n",
       "      <td>0</td>\n",
       "      <td>0</td>\n",
       "      <td>0</td>\n",
       "      <td>0</td>\n",
       "      <td>No</td>\n",
       "    </tr>\n",
       "    <tr>\n",
       "      <th>1</th>\n",
       "      <td>5.589978e+14</td>\n",
       "      <td>5642503</td>\n",
       "      <td>M</td>\n",
       "      <td>2016-04-29T16:08:27Z</td>\n",
       "      <td>2016-04-29T00:00:00Z</td>\n",
       "      <td>56</td>\n",
       "      <td>JARDIM DA PENHA</td>\n",
       "      <td>0</td>\n",
       "      <td>0</td>\n",
       "      <td>0</td>\n",
       "      <td>0</td>\n",
       "      <td>0</td>\n",
       "      <td>0</td>\n",
       "      <td>No</td>\n",
       "    </tr>\n",
       "    <tr>\n",
       "      <th>2</th>\n",
       "      <td>4.262962e+12</td>\n",
       "      <td>5642549</td>\n",
       "      <td>F</td>\n",
       "      <td>2016-04-29T16:19:04Z</td>\n",
       "      <td>2016-04-29T00:00:00Z</td>\n",
       "      <td>62</td>\n",
       "      <td>MATA DA PRAIA</td>\n",
       "      <td>0</td>\n",
       "      <td>0</td>\n",
       "      <td>0</td>\n",
       "      <td>0</td>\n",
       "      <td>0</td>\n",
       "      <td>0</td>\n",
       "      <td>No</td>\n",
       "    </tr>\n",
       "    <tr>\n",
       "      <th>3</th>\n",
       "      <td>8.679512e+11</td>\n",
       "      <td>5642828</td>\n",
       "      <td>F</td>\n",
       "      <td>2016-04-29T17:29:31Z</td>\n",
       "      <td>2016-04-29T00:00:00Z</td>\n",
       "      <td>8</td>\n",
       "      <td>PONTAL DE CAMBURI</td>\n",
       "      <td>0</td>\n",
       "      <td>0</td>\n",
       "      <td>0</td>\n",
       "      <td>0</td>\n",
       "      <td>0</td>\n",
       "      <td>0</td>\n",
       "      <td>No</td>\n",
       "    </tr>\n",
       "    <tr>\n",
       "      <th>4</th>\n",
       "      <td>8.841186e+12</td>\n",
       "      <td>5642494</td>\n",
       "      <td>F</td>\n",
       "      <td>2016-04-29T16:07:23Z</td>\n",
       "      <td>2016-04-29T00:00:00Z</td>\n",
       "      <td>56</td>\n",
       "      <td>JARDIM DA PENHA</td>\n",
       "      <td>0</td>\n",
       "      <td>1</td>\n",
       "      <td>1</td>\n",
       "      <td>0</td>\n",
       "      <td>0</td>\n",
       "      <td>0</td>\n",
       "      <td>No</td>\n",
       "    </tr>\n",
       "  </tbody>\n",
       "</table>\n",
       "</div>"
      ],
      "text/plain": [
       "      PatientId  AppointmentID Gender          ScheduledDay  \\\n",
       "0  2.987250e+13        5642903      F  2016-04-29T18:38:08Z   \n",
       "1  5.589978e+14        5642503      M  2016-04-29T16:08:27Z   \n",
       "2  4.262962e+12        5642549      F  2016-04-29T16:19:04Z   \n",
       "3  8.679512e+11        5642828      F  2016-04-29T17:29:31Z   \n",
       "4  8.841186e+12        5642494      F  2016-04-29T16:07:23Z   \n",
       "\n",
       "         AppointmentDay  Age      Neighbourhood  Scholarship  Hipertension  \\\n",
       "0  2016-04-29T00:00:00Z   62    JARDIM DA PENHA            0             1   \n",
       "1  2016-04-29T00:00:00Z   56    JARDIM DA PENHA            0             0   \n",
       "2  2016-04-29T00:00:00Z   62      MATA DA PRAIA            0             0   \n",
       "3  2016-04-29T00:00:00Z    8  PONTAL DE CAMBURI            0             0   \n",
       "4  2016-04-29T00:00:00Z   56    JARDIM DA PENHA            0             1   \n",
       "\n",
       "   Diabetes  Alcoholism  Handcap  SMS_received No-show  \n",
       "0         0           0        0             0      No  \n",
       "1         0           0        0             0      No  \n",
       "2         0           0        0             0      No  \n",
       "3         0           0        0             0      No  \n",
       "4         1           0        0             0      No  "
      ]
     },
     "execution_count": 2,
     "metadata": {},
     "output_type": "execute_result"
    }
   ],
   "source": [
    "# Loading the data \n",
    "df = pd.read_csv('noshowappointments-kagglev2-may-2016.csv')\n",
    "df.head()"
   ]
  },
  {
   "cell_type": "code",
   "execution_count": 3,
   "metadata": {},
   "outputs": [
    {
     "name": "stdout",
     "output_type": "stream",
     "text": [
      "<class 'pandas.core.frame.DataFrame'>\n",
      "RangeIndex: 110527 entries, 0 to 110526\n",
      "Data columns (total 14 columns):\n",
      "PatientId         110527 non-null float64\n",
      "AppointmentID     110527 non-null int64\n",
      "Gender            110527 non-null object\n",
      "ScheduledDay      110527 non-null object\n",
      "AppointmentDay    110527 non-null object\n",
      "Age               110527 non-null int64\n",
      "Neighbourhood     110527 non-null object\n",
      "Scholarship       110527 non-null int64\n",
      "Hipertension      110527 non-null int64\n",
      "Diabetes          110527 non-null int64\n",
      "Alcoholism        110527 non-null int64\n",
      "Handcap           110527 non-null int64\n",
      "SMS_received      110527 non-null int64\n",
      "No-show           110527 non-null object\n",
      "dtypes: float64(1), int64(8), object(5)\n",
      "memory usage: 11.8+ MB\n"
     ]
    }
   ],
   "source": [
    "#to see columns datatypes:\n",
    "df.info()"
   ]
  },
  {
   "cell_type": "markdown",
   "metadata": {},
   "source": [
    "\n",
    "### Data Cleaning as following:\n",
    "\n",
    ">1-ScheduledDay,AppointmentDay need to be converted from object to Datetime\n",
    "\n",
    ">2-weekday will be extracted from ScheduledDay,AppointmentDay to be used later\n",
    "\n",
    ">3-Two coulmns will be dropped as they are not important \n",
    "\n",
    ">4-Some columns will be changed to anther appropriate names\n",
    "\n",
    ">5-Check and update some  Age values"
   ]
  },
  {
   "cell_type": "code",
   "execution_count": 4,
   "metadata": {},
   "outputs": [
    {
     "data": {
      "text/plain": [
       "0"
      ]
     },
     "execution_count": 4,
     "metadata": {},
     "output_type": "execute_result"
    }
   ],
   "source": [
    "\n",
    "#check duplicates \n",
    "sum(df.duplicated())"
   ]
  },
  {
   "cell_type": "code",
   "execution_count": 5,
   "metadata": {},
   "outputs": [
    {
     "data": {
      "text/plain": [
       "PatientId         0\n",
       "AppointmentID     0\n",
       "Gender            0\n",
       "ScheduledDay      0\n",
       "AppointmentDay    0\n",
       "Age               0\n",
       "Neighbourhood     0\n",
       "Scholarship       0\n",
       "Hipertension      0\n",
       "Diabetes          0\n",
       "Alcoholism        0\n",
       "Handcap           0\n",
       "SMS_received      0\n",
       "No-show           0\n",
       "dtype: int64"
      ]
     },
     "execution_count": 5,
     "metadata": {},
     "output_type": "execute_result"
    }
   ],
   "source": [
    "#check null values \n",
    "df.isnull().sum()"
   ]
  },
  {
   "cell_type": "markdown",
   "metadata": {},
   "source": [
    "#### 1-ScheduledDay,AppointmentDay need to be converted from object to Datetime "
   ]
  },
  {
   "cell_type": "code",
   "execution_count": 6,
   "metadata": {},
   "outputs": [],
   "source": [
    "# convert ScheduledDay,AppointmentDay to datetime\n",
    "df['ScheduledDay'] = pd.to_datetime(df['ScheduledDay'])\n",
    "df['AppointmentDay'] = pd.to_datetime(df['AppointmentDay'])"
   ]
  },
  {
   "cell_type": "markdown",
   "metadata": {},
   "source": [
    "#### 2-weekday will be extracted from ScheduledDay,AppointmentDay to be used later"
   ]
  },
  {
   "cell_type": "code",
   "execution_count": 7,
   "metadata": {},
   "outputs": [],
   "source": [
    "#extract weekday from ScheduledDay,AppointmentDay\n",
    "df['Scheduled_Weekday']=df['ScheduledDay'].dt.day_name()\n",
    "df['Appointment_Weekday']=df['AppointmentDay'].dt.day_name()"
   ]
  },
  {
   "cell_type": "markdown",
   "metadata": {},
   "source": [
    "#### 3-Two coulmns will be dropped as they are not important "
   ]
  },
  {
   "cell_type": "code",
   "execution_count": 8,
   "metadata": {},
   "outputs": [],
   "source": [
    "# these two coulmns will not be used \n",
    "df.drop(['PatientId', 'AppointmentID'], axis=1, inplace=True)"
   ]
  },
  {
   "cell_type": "markdown",
   "metadata": {},
   "source": [
    "#### 4-Some columns will be changed to anther appropriate names"
   ]
  },
  {
   "cell_type": "code",
   "execution_count": 9,
   "metadata": {},
   "outputs": [],
   "source": [
    "#correct some columns name\n",
    "df.rename(columns={'No-show': 'Noshow', 'Hipertension': 'Hypertension', 'Handcap': 'Handicap'},inplace=True)"
   ]
  },
  {
   "cell_type": "markdown",
   "metadata": {},
   "source": [
    "#### 5-Check and update some  Age values"
   ]
  },
  {
   "cell_type": "code",
   "execution_count": 10,
   "metadata": {},
   "outputs": [
    {
     "data": {
      "text/plain": [
       "count    110527.000000\n",
       "mean         37.088874\n",
       "std          23.110205\n",
       "min          -1.000000\n",
       "25%          18.000000\n",
       "50%          37.000000\n",
       "75%          55.000000\n",
       "max         115.000000\n",
       "Name: Age, dtype: float64"
      ]
     },
     "execution_count": 10,
     "metadata": {},
     "output_type": "execute_result"
    }
   ],
   "source": [
    "#check age range \n",
    "df['Age'].describe()"
   ]
  },
  {
   "cell_type": "code",
   "execution_count": 11,
   "metadata": {},
   "outputs": [],
   "source": [
    "#drop negative age and age greater than 100 year\n",
    "df.drop(df[df['Age'] < 0].index, inplace = True)\n",
    "df.drop(df[df['Age'] > 100].index, inplace = True)"
   ]
  },
  {
   "cell_type": "code",
   "execution_count": 12,
   "metadata": {},
   "outputs": [
    {
     "name": "stdout",
     "output_type": "stream",
     "text": [
      "<class 'pandas.core.frame.DataFrame'>\n",
      "Int64Index: 110519 entries, 0 to 110526\n",
      "Data columns (total 14 columns):\n",
      "Gender                 110519 non-null object\n",
      "ScheduledDay           110519 non-null datetime64[ns, UTC]\n",
      "AppointmentDay         110519 non-null datetime64[ns, UTC]\n",
      "Age                    110519 non-null int64\n",
      "Neighbourhood          110519 non-null object\n",
      "Scholarship            110519 non-null int64\n",
      "Hypertension           110519 non-null int64\n",
      "Diabetes               110519 non-null int64\n",
      "Alcoholism             110519 non-null int64\n",
      "Handicap               110519 non-null int64\n",
      "SMS_received           110519 non-null int64\n",
      "Noshow                 110519 non-null object\n",
      "Scheduled_Weekday      110519 non-null object\n",
      "Appointment_Weekday    110519 non-null object\n",
      "dtypes: datetime64[ns, UTC](2), int64(7), object(5)\n",
      "memory usage: 12.6+ MB\n"
     ]
    }
   ],
   "source": [
    "#check final structure\n",
    "df.info()"
   ]
  },
  {
   "cell_type": "markdown",
   "metadata": {},
   "source": [
    "<a id='eda'></a>\n",
    "## Exploratory Data Analysis\n",
    "\n",
    "\n",
    "### Question1 : What is the effect of ( Age,Gender , SMS_received , Scholarship , Scheduled_Weekday) on  show up rate for their scheduled appointment?"
   ]
  },
  {
   "cell_type": "markdown",
   "metadata": {},
   "source": [
    "Filtering the no show entries in a new DataFram called \"df_noshow\" to be used later"
   ]
  },
  {
   "cell_type": "code",
   "execution_count": 13,
   "metadata": {},
   "outputs": [],
   "source": [
    "# select all data with no_show == yes to use in the analysis \n",
    "df_noshow = df[df['Noshow']=='Yes']"
   ]
  },
  {
   "cell_type": "markdown",
   "metadata": {},
   "source": [
    "Filtering the show entries in a new DataFram called \"df_show\""
   ]
  },
  {
   "cell_type": "code",
   "execution_count": 14,
   "metadata": {},
   "outputs": [],
   "source": [
    "# select all data with no_show == No to use in the analysis \n",
    "df_show = df[df['Noshow']=='No']"
   ]
  },
  {
   "cell_type": "code",
   "execution_count": 15,
   "metadata": {},
   "outputs": [
    {
     "data": {
      "image/png": "[encoded data removed]",
      "text/plain": [
       "<Figure size 576x576 with 9 Axes>"
      ]
     },
     "metadata": {
      "needs_background": "light"
     },
     "output_type": "display_data"
    }
   ],
   "source": [
    "# to see some histograms with no_show patients\n",
    "df_noshow.hist(figsize=(8,8));"
   ]
  },
  {
   "cell_type": "markdown",
   "metadata": {},
   "source": [
    "#### Q1-1:The Age Factor with the no show rate"
   ]
  },
  {
   "cell_type": "code",
   "execution_count": 16,
   "metadata": {},
   "outputs": [
    {
     "data": {
      "text/plain": [
       "count    22316.000000\n",
       "mean        34.306820\n",
       "std         21.947486\n",
       "min          0.000000\n",
       "25%         16.000000\n",
       "50%         33.000000\n",
       "75%         51.000000\n",
       "max         98.000000\n",
       "Name: Age, dtype: float64"
      ]
     },
     "execution_count": 16,
     "metadata": {},
     "output_type": "execute_result"
    }
   ],
   "source": [
    "# to see the Age statistcs with the no_show entries .\n",
    "df_noshow['Age'].describe()"
   ]
  },
  {
   "cell_type": "markdown",
   "metadata": {},
   "source": [
    "To Find The correlation between the age and the no show rate : positive or negative Correlation??"
   ]
  },
  {
   "cell_type": "code",
   "execution_count": 17,
   "metadata": {},
   "outputs": [
    {
     "data": {
      "image/png": "[encoded data removed]",
      "text/plain": [
       "<Figure size 432x288 with 1 Axes>"
      ]
     },
     "metadata": {
      "needs_background": "light"
     },
     "output_type": "display_data"
    }
   ],
   "source": [
    "#to get the correlation between the age and the no show rate .\n",
    "\n",
    "#Age_range in order\n",
    "ind_age=df_noshow['Age'].value_counts().index.sort_values()\n",
    "\n",
    "#no show rate with Age.\n",
    "# to get the proportion is more applicable than the absolute count for detecting the no show rate \n",
    "Age_proportion_noshow=df_noshow['Age'].value_counts()[ind_age]/df['Age'].value_counts()[ind_age]\n",
    "\n",
    "#scatter plot showing the Age Range and corresponding no show rate\n",
    "plt.scatter(Age_proportion_noshow.index, Age_proportion_noshow)\n",
    "\n",
    "# define a new function for reptitve code of assigen x_axis label, y_axis_label, title \n",
    "def plot_labels(ylabel,xlabel,tiltle):\n",
    "    plt.ylabel(ylabel)\n",
    "    plt.xlabel(xlabel)\n",
    "    plt.title(tiltle)\n",
    "\n",
    "plot_labels('No Show rate','Age','the correlation between Age and the no show rate')"
   ]
  },
  {
   "cell_type": "markdown",
   "metadata": {},
   "source": [
    "It showed according to Age range the correlation differs as the following:\n",
    "* Age range < 17 years has positive correlation.\n",
    "* Age range between 17 and later 70's years has negative correlation .\n",
    "* Age range above 80 years has almost positive correlation ."
   ]
  },
  {
   "cell_type": "markdown",
   "metadata": {},
   "source": [
    "#### Q1-2: The Gender effect on the no show rate"
   ]
  },
  {
   "cell_type": "code",
   "execution_count": 18,
   "metadata": {},
   "outputs": [
    {
     "data": {
      "text/plain": [
       "Noshow  Gender\n",
       "No      F         0.796873\n",
       "        M         0.800321\n",
       "Yes     F         0.203127\n",
       "        M         0.199679\n",
       "Name: ScheduledDay, dtype: float64"
      ]
     },
     "execution_count": 18,
     "metadata": {},
     "output_type": "execute_result"
    }
   ],
   "source": [
    "#to show the aggregation of 'Noshow', 'Gender' \n",
    "Gender_count=df.groupby(['Noshow', 'Gender']).count()['ScheduledDay']\n",
    "#to see the gender propotion with the no show index.\n",
    "# to get the proportion is more applicable than the absolute count for detecting the no show rate \n",
    "Gender_total=df.groupby(['Gender']).count()['ScheduledDay']\n",
    "gender_propotion=Gender_count/Gender_total\n",
    "gender_propotion"
   ]
  },
  {
   "cell_type": "code",
   "execution_count": 19,
   "metadata": {},
   "outputs": [
    {
     "data": {
      "text/plain": [
       "<matplotlib.legend.Legend at 0x191bfddd828>"
      ]
     },
     "execution_count": 19,
     "metadata": {},
     "output_type": "execute_result"
    },
    {
     "data": {
      "image/png": "[encoded data removed]",
      "text/plain": [
       "<Figure size 432x288 with 1 Axes>"
      ]
     },
     "metadata": {
      "needs_background": "light"
     },
     "output_type": "display_data"
    }
   ],
   "source": [
    "#to plot the gender propotion with the no show rate.\n",
    "Gender_count=df.groupby([ 'Gender']).count()['ScheduledDay']\n",
    "\n",
    "#to see the Female propotion with the no show index.\n",
    "Gender_count_female=df[df['Gender']=='F'].groupby(['Noshow', 'Gender']).count()['ScheduledDay']/Gender_count[0]\n",
    "\n",
    "#to see the male propotion with the no show index.\n",
    "Gender_count_male=df[df['Gender']=='M'].groupby(['Noshow', 'Gender']).count()['ScheduledDay']/Gender_count[1]\n",
    "\n",
    "# assign width of bars plot\n",
    "width = 0.35 \n",
    "x_axis = np.arange(2)\n",
    "female_bars = plt.bar(x_axis -.2, Gender_count_female,width,  color='r', alpha=.7, label='Female probortion')\n",
    "male_bars = plt.bar(x_axis +.2 , Gender_count_male,width,  color='b', alpha=.7, label='Male probortion')\n",
    "plt.xticks(x_axis, ['No Show','Show'])\n",
    "plot_labels('Proportion','patient showing up','Proportion by Gender')\n",
    "\n",
    "# legend\n",
    "plt.legend()\n",
    "\n"
   ]
  },
  {
   "cell_type": "markdown",
   "metadata": {},
   "source": [
    "From the Graph , Gender has no effect on no show rate"
   ]
  },
  {
   "cell_type": "markdown",
   "metadata": {},
   "source": [
    "#### Q1-3: The SMS_received effect on the no show rate"
   ]
  },
  {
   "cell_type": "code",
   "execution_count": 20,
   "metadata": {},
   "outputs": [
    {
     "data": {
      "text/plain": [
       "([<matplotlib.axis.XTick at 0x191c02365f8>,\n",
       "  <matplotlib.axis.XTick at 0x191c0127fd0>],\n",
       " <a list of 2 Text xticklabel objects>)"
      ]
     },
     "execution_count": 20,
     "metadata": {},
     "output_type": "execute_result"
    },
    {
     "data": {
      "image/png": "[encoded data removed]",
      "text/plain": [
       "<Figure size 432x288 with 1 Axes>"
      ]
     },
     "metadata": {
      "needs_background": "light"
     },
     "output_type": "display_data"
    }
   ],
   "source": [
    "#to see SMS_received effect on the no show rate.\n",
    "\n",
    "# to get the proportion is more applicable than the absolute count for detecting the no show rate \n",
    "SMS_received_proportion=df_noshow['SMS_received'].value_counts()/df['SMS_received'].value_counts()\n",
    "\n",
    "SMS_received_proportion.plot(kind='bar');\n",
    "plot_labels('No show rate','SMS_received','SMS received with no show rate')\n",
    "plt.xticks([0,1], ['NO','yes'])"
   ]
  },
  {
   "cell_type": "markdown",
   "metadata": {},
   "source": [
    "unexpected results !! , no show rate is lower in case of not sending an SMS"
   ]
  },
  {
   "cell_type": "markdown",
   "metadata": {},
   "source": [
    "#### Q1-4:The Scholarship effect on the no show rate"
   ]
  },
  {
   "cell_type": "code",
   "execution_count": 21,
   "metadata": {},
   "outputs": [
    {
     "data": {
      "text/plain": [
       "([<matplotlib.axis.XTick at 0x191c018fdd8>,\n",
       "  <matplotlib.axis.XTick at 0x191bfec7550>],\n",
       " <a list of 2 Text xticklabel objects>)"
      ]
     },
     "execution_count": 21,
     "metadata": {},
     "output_type": "execute_result"
    },
    {
     "data": {
      "image/png": "[encoded data removed]",
      "text/plain": [
       "<Figure size 432x288 with 1 Axes>"
      ]
     },
     "metadata": {
      "needs_background": "light"
     },
     "output_type": "display_data"
    }
   ],
   "source": [
    "#to see the no show rate with Scholarship  .\n",
    "\n",
    "# to get the proportion is more applicable than the absolute count for detecting the no show rate \n",
    "Scholarship_proportion=df_noshow['Scholarship'].value_counts()/df['Scholarship'].value_counts()\n",
    "# to draw a bar graph\n",
    "Scholarship_proportion.plot(kind='bar');\n",
    "plot_labels('No show rate','Bolsa Família Programm Scholarship','No show rate with Bolsa Família Programm Scholarship')\n",
    "plt.xticks([0,1], ['NO','yes'])"
   ]
  },
  {
   "cell_type": "markdown",
   "metadata": {},
   "source": [
    "No show rate increased with this Scholarship "
   ]
  },
  {
   "cell_type": "markdown",
   "metadata": {},
   "source": [
    "#### Q1-5: The Scheduled_Weekday effect on the no show rate"
   ]
  },
  {
   "cell_type": "code",
   "execution_count": 22,
   "metadata": {},
   "outputs": [
    {
     "data": {
      "image/png": "[encoded data removed]",
      "text/plain": [
       "<Figure size 432x288 with 1 Axes>"
      ]
     },
     "metadata": {},
     "output_type": "display_data"
    }
   ],
   "source": [
    "# to show no_show rate along the Scheduled_Weekday_that are extracted above . \n",
    "ind = df_noshow['Scheduled_Weekday'].value_counts().index\n",
    "\n",
    "# to get the proportion is more applicable than the absolute count for detecting the no show rate. \n",
    "Scheduled=df_noshow['Scheduled_Weekday'].value_counts()[ind]/df['Scheduled_Weekday'].value_counts()[ind]\n",
    "\n",
    "Scheduled.plot(kind='pie',autopct='%1.0f%%');\n",
    "plt.title('No show rate along the Scheduled Weekday')\n",
    "plt.show()"
   ]
  },
  {
   "cell_type": "markdown",
   "metadata": {},
   "source": [
    "Saturday is the best day for commitment to schedules whith lowest no show rate , Friday is the worest "
   ]
  },
  {
   "cell_type": "markdown",
   "metadata": {},
   "source": [
    "###  Question2 : What is the  top 10 Neighbourhood in no_show rate?"
   ]
  },
  {
   "cell_type": "code",
   "execution_count": 23,
   "metadata": {},
   "outputs": [
    {
     "name": "stdout",
     "output_type": "stream",
     "text": [
      "ILHAS OCEÂNICAS DE TRINDADE    1.000000\n",
      "SANTOS DUMONT                  0.289185\n",
      "SANTA CECÍLIA                  0.274554\n",
      "SANTA CLARA                    0.264822\n",
      "ITARARÉ                        0.262664\n",
      "JESUS DE NAZARETH              0.243954\n",
      "HORTO                          0.240000\n",
      "ILHA DO PRÍNCIPE               0.234775\n",
      "CARATOÍRA                      0.230409\n",
      "ANDORINHAS                     0.229407\n",
      "Name: Neighbourhood, dtype: float64\n"
     ]
    },
    {
     "data": {
      "image/png": "[encoded data removed]",
      "text/plain": [
       "<Figure size 432x288 with 1 Axes>"
      ]
     },
     "metadata": {
      "needs_background": "light"
     },
     "output_type": "display_data"
    }
   ],
   "source": [
    "\n",
    "# to get the top 10 Neighbourhood in no_show rate\n",
    "\n",
    "# get the ordered index \n",
    "ind2=df_noshow['Neighbourhood'].value_counts().index\n",
    "\n",
    "# to get the proportion is more applicable than the absolute count for detecting the no show rate. \n",
    "Neighbourhood_proportion_noshow=df_noshow['Neighbourhood'].value_counts()[ind2]/df['Neighbourhood'].value_counts()[ind2]\n",
    "\n",
    "# get the top 10 Neighbourhood with heighst no show rate\n",
    "print(Neighbourhood_proportion_noshow.sort_values(ascending=False)[:10])\n",
    "\n",
    "# show in a graph\n",
    "Neighbourhood_proportion_noshow.sort_values(ascending=False)[:10].plot(kind='bar');\n",
    "plot_labels('No show rate','Neighbourhood','The Top 10 Neighbourhood with high no_show rate')"
   ]
  },
  {
   "cell_type": "markdown",
   "metadata": {},
   "source": [
    "To get the worest Neighbourhood in not commitment to schedules."
   ]
  },
  {
   "cell_type": "code",
   "execution_count": 24,
   "metadata": {},
   "outputs": [
    {
     "data": {
      "text/plain": [
       "(1.0, 'ILHAS OCEÂNICAS DE TRINDADE')"
      ]
     },
     "execution_count": 24,
     "metadata": {},
     "output_type": "execute_result"
    }
   ],
   "source": [
    "# to get hieghst Neighbourhood in no_show rate and it's value\n",
    "Neighbourhood_proportion_noshow.max(),Neighbourhood_proportion_noshow.idxmax()"
   ]
  },
  {
   "cell_type": "markdown",
   "metadata": {},
   "source": [
    "<a id='conclusions'></a>\n",
    "## Conclusions\n",
    "\n",
    "### From the above investigation,  it showed that :\n",
    ">1- Gender is not a major factor affecting No Show rate , Female proportion is almost the same as Male's.\n",
    "\n",
    ">2- Age Factor : from the correlation between Age and the No show rate ,it showed that: \n",
    "      > - Ages less than 17 years have positive correlation , which means with increasing in age , thier commitment decreases and the no show rate increases to reach peak at 14 year.\n",
    "      > - Ages between 17 to 80 years have negative correlation which means with increasing in age , thier commitment increases and the no show rate decreases .\n",
    "       >- Ages above 80 years have almost positive correlation between age and no show rate\n",
    "       \n",
    ">3- SMS_received has unexpectedly slight negative effect on no show rate  \n",
    "\n",
    ">4- members of Bolsa Família Programm Scholarship has higher no show rate than unsubscribed members.\n",
    "\n",
    ">5- regarding Scheduled Weekday : Saturday has the least No show rate while Friday has the heighst No show rate.\n",
    "\n",
    ">6- regarding Neighbourhood : 100 % of Scheduled appointment of \"ILHAS OCEÂNICAS DE TRINDADE\" has No show .<br>\n",
    "    The heighst 10 Neighbourhood in no_show rate are :<br>\n",
    "   * ILHAS OCEÂNICAS DE TRINDADE\n",
    "   * SANTOS DUMONT         \n",
    "   * SANTA CECÍLIA             \n",
    "   * SANTA CLARA              \n",
    "   * ITARARÉ                     \n",
    "   * JESUS DE NAZARETH        \n",
    "   * HORTO                    \n",
    "   * ILHA DO PRÍNCIPE            \n",
    "   * CARATOÍRA                    \n",
    "   * ANDORINHAS   \n",
    "   \n",
    "### There may be some possible limitations in this study:\n",
    "   * There are lack of some important information , like the name of service providers or the hospital names . That may help us find which of them correlated with high No show rate ? and suggest if thery need an improvments to keep more commitment of the patients .\n",
    "   * There are some outliers that are removed , like entries with negative age or age more than 100 years.\n",
    "   * This Analysis is about the effect of some factors on No show index only , But it would be better to find the interrelationship between other factors to give a better invistigation.\n",
    "   \n"
   ]
  },
  {
   "cell_type": "code",
   "execution_count": null,
   "metadata": {
    "collapsed": true
   },
   "outputs": [],
   "source": []
  }
 ],
 "metadata": {
  "kernelspec": {
   "display_name": "Python 3",
   "language": "python",
   "name": "python3"
  },
  "language_info": {
   "codemirror_mode": {
    "name": "ipython",
    "version": 3
   },
   "file_extension": ".py",
   "mimetype": "text/x-python",
   "name": "python",
   "nbconvert_exporter": "python",
   "pygments_lexer": "ipython3",
   "version": "3.7.2"
  }
 },
 "nbformat": 4,
 "nbformat_minor": 2
}
